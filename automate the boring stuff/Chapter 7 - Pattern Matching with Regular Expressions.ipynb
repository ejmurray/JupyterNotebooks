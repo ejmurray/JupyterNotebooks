{
 "cells": [
  {
   "cell_type": "markdown",
   "metadata": {},
   "source": [
    "# Pattern matching with Regular Expressions p148-171."
   ]
  },
  {
   "cell_type": "markdown",
   "metadata": {},
   "source": [
    "### Finding patterns of text without regular expressions"
   ]
  },
  {
   "cell_type": "markdown",
   "metadata": {},
   "source": [
    "Finding a phone number in a string using a function."
   ]
  },
  {
   "cell_type": "code",
   "execution_count": 7,
   "metadata": {
    "collapsed": false
   },
   "outputs": [
    {
     "name": "stdout",
     "output_type": "stream",
     "text": [
      "Phone number found: 0113 254 6879\n",
      "Phone number found: 0161 453 5767\n",
      "Done!\n"
     ]
    }
   ],
   "source": [
    "def isPhoneNumber(text):\n",
    "    if len(text) !=13:  # this has been changed to the English phone number system.\n",
    "        return False\n",
    "    for i in range(0, 4):\n",
    "        if not text[i].isdecimal():\n",
    "            return False\n",
    "    for i in range(5, 8):\n",
    "        if not text[i].isdecimal():\n",
    "            return False\n",
    "    for i in range(10, 13):\n",
    "        if not text[i].isdecimal():\n",
    "            return False\n",
    "    return True\n",
    "\n",
    "\n",
    "def isMobile(text):\n",
    "    if len(text) !=12:  # this has been changed to the English phone number system.\n",
    "        return False\n",
    "    for i in range(0, 5):  # for a mobile number\n",
    "        if not text[i].isdecimal():\n",
    "            return False\n",
    "    for i in range(6, 12):\n",
    "        if not text[i].isdecimal():\n",
    "            return False\n",
    "    return True\n",
    "\n",
    "message = 'Call me on 0113 254 6879 tomorrow. My office number is 0161 453 5767.'\n",
    "for i in range(len(message)):\n",
    "    chunk = message[i:i+13]\n",
    "    if isPhoneNumber(chunk):\n",
    "        print('Phone number found: ' + chunk)\n",
    "print('Done!')\n",
    "\n",
    "# print('0113 264 9034 is a phone number')\n",
    "# print(isPhoneNumber('0113 264 9034'))\n",
    "# print('01423 mish mash is not a number')\n",
    "# print(isPhoneNumber('01423 mish mash'))\n",
    "# print('07765 565787 is a mobile number')\n",
    "# print(isMobile('07756 747747'))\n",
    "# print('07736 this is not a moblie number')\n",
    "# print(isMobile('07736 this is not a moblie number'))"
   ]
  },
  {
   "cell_type": "code",
   "execution_count": null,
   "metadata": {
    "collapsed": true
   },
   "outputs": [],
   "source": []
  }
 ],
 "metadata": {
  "anaconda-cloud": {},
  "kernelspec": {
   "display_name": "Python [py35]",
   "language": "python",
   "name": "Python [py35]"
  },
  "language_info": {
   "codemirror_mode": {
    "name": "ipython",
    "version": 3
   },
   "file_extension": ".py",
   "mimetype": "text/x-python",
   "name": "python",
   "nbconvert_exporter": "python",
   "pygments_lexer": "ipython3",
   "version": "3.5.2"
  }
 },
 "nbformat": 4,
 "nbformat_minor": 0
}
