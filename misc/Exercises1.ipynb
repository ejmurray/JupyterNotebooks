{
 "cells": [
  {
   "cell_type": "markdown",
   "metadata": {},
   "source": [
    "# Exercises for Session 1"
   ]
  },
  {
   "cell_type": "markdown",
   "metadata": {},
   "source": [
    "## Exercise (4)"
   ]
  },
  {
   "cell_type": "code",
   "execution_count": 1,
   "metadata": {
    "collapsed": false
   },
   "outputs": [],
   "source": [
    "import math"
   ]
  },
  {
   "cell_type": "code",
   "execution_count": 2,
   "metadata": {
    "collapsed": false
   },
   "outputs": [],
   "source": [
    "favnums = [1, 3.1415, math.sqrt(7), 6, 7.5]"
   ]
  },
  {
   "cell_type": "code",
   "execution_count": 3,
   "metadata": {
    "collapsed": false
   },
   "outputs": [
    {
     "name": "stdout",
     "output_type": "stream",
     "text": [
      "1.00000  1.00000  True\n",
      "3.14150  1.00000  True\n",
      "2.64575  1.00000  True\n",
      "6.00000  1.00000  True\n",
      "7.50000  1.00000  True\n"
     ]
    }
   ],
   "source": [
    "for i in favnums:\n",
    "    y = math.cosh(i)**2 - math.sinh(i)**2\n",
    "    test = abs(y - 1) < 1e-6\n",
    "    print('{:7.5f}  {:7.5f}  {}'.format(i, y, test))"
   ]
  },
  {
   "cell_type": "code",
   "execution_count": 4,
   "metadata": {
    "collapsed": false
   },
   "outputs": [
    {
     "name": "stdout",
     "output_type": "stream",
     "text": [
      "[True, True, True, True, True]\n"
     ]
    }
   ],
   "source": [
    "print([(math.cosh(i)**2 - math.sinh(i)**2 - 1) < 1e-6 for i in favnums])"
   ]
  },
  {
   "cell_type": "markdown",
   "metadata": {},
   "source": [
    "## Exercises (5) and (6)"
   ]
  },
  {
   "cell_type": "code",
   "execution_count": 5,
   "metadata": {
    "collapsed": false
   },
   "outputs": [],
   "source": [
    "def is_divisible(x, n):\n",
    "    \"\"\" Find the indices of x where the element is exactly divisible by n.\n",
    "\n",
    "    Arguments:\n",
    "    x - list of numbers to test\n",
    "    n - single divisor\n",
    "\n",
    "    Returns a list of the indices of x for which the value of the element is\n",
    "    divisible by n (to a precision of 1e-6 in the case of floats).\n",
    "\n",
    "    Example:\n",
    "    >>> favnums = [1, 3.1415, math.sqrt(7), 6, 7.5]\n",
    "    >>> divisor = 3\n",
    "    >>> idx = is_divisible(favnums, divisor)\n",
    "    >>> for i in idx:\n",
    "    ...     print('{}, {}'.format(i, favnums[i]))\n",
    "    3, 6\n",
    "\n",
    "    \"\"\"\n",
    "    \n",
    "    r = []\n",
    "    small = 1e-6\n",
    "    for i, m in enumerate(x):\n",
    "        if m % n < small:\n",
    "            r.append(i)\n",
    "    return r"
   ]
  },
  {
   "cell_type": "code",
   "execution_count": 6,
   "metadata": {
    "collapsed": false
   },
   "outputs": [
    {
     "name": "stdout",
     "output_type": "stream",
     "text": [
      "Help on function is_divisible in module __main__:\n",
      "\n",
      "is_divisible(x, n)\n",
      "    Find the indices of x where the element is exactly divisible by n.\n",
      "    \n",
      "    Arguments:\n",
      "    x - list of numbers to test\n",
      "    n - single divisor\n",
      "    \n",
      "    Returns a list of the indices of x for which the value of the element is\n",
      "    divisible by n (to a precision of 1e-6 in the case of floats).\n",
      "    \n",
      "    Example:\n",
      "    >>> favnums = [1, 3.1415, math.sqrt(7), 6, 7.5]\n",
      "    >>> divisor = 3\n",
      "    >>> idx = is_divisible(favnums, divisor)\n",
      "    >>> for i in idx:\n",
      "    ...     print('{}, {}'.format(i, favnums[i]))\n",
      "    3, 6\n",
      "\n"
     ]
    }
   ],
   "source": [
    "help(is_divisible)"
   ]
  },
  {
   "cell_type": "code",
   "execution_count": 7,
   "metadata": {
    "collapsed": false
   },
   "outputs": [
    {
     "name": "stdout",
     "output_type": "stream",
     "text": [
      "Value 6 (at index 3) is divisible by 3\n"
     ]
    }
   ],
   "source": [
    "divisor = 3\n",
    "idx = is_divisible(favnums, divisor)\n",
    "for i in idx:\n",
    "    print('Value {} (at index {}) is divisible by {}'.format(favnums[i], i, divisor))"
   ]
  },
  {
   "cell_type": "markdown",
   "metadata": {},
   "source": [
    "## Exercise (7)"
   ]
  },
  {
   "cell_type": "code",
   "execution_count": 8,
   "metadata": {
    "collapsed": false
   },
   "outputs": [],
   "source": [
    "# produce example file\n",
    "file('ex1_7.txt', 'w').write(\n",
    "\"\"\"1 2 3 4 5 6 7 8 9 10\n",
    "1 4 9 16 25 36 49 64 81 100\n",
    "1 8 27 64 125 216 343 512 729 1000\n",
    "1 16 81 256 625 1296 2401 4096 6561 10000\n",
    "\"\"\")"
   ]
  },
  {
   "cell_type": "code",
   "execution_count": 9,
   "metadata": {
    "collapsed": false
   },
   "outputs": [],
   "source": [
    "def is_divisible_from_file(fname='ex1_7.txt', n=8):\n",
    "    \"\"\" Find values in a file which are exactly divisible by n.\n",
    "\n",
    "    Arguments:\n",
    "    x - filename: file should contain rows of numbers\n",
    "    n - single divisor\n",
    "\n",
    "    Returns a list containing, for each line in the specified file,\n",
    "    lists of the zero-indexed column numbers for which the value is\n",
    "    divisible by n (to a precision of 1e-6).\n",
    "\n",
    "    Example:\n",
    "    >>> is_divisible_from_file('ex1_7.txt', 8)\n",
    "    [[7], [3, 7], [1, 3, 5, 7, 9], [1, 3, 5, 7, 9]]\n",
    "\n",
    "    \"\"\"\n",
    "\n",
    "    r = []\n",
    "    f = file(fname)\n",
    "    for l in f:\n",
    "        x = [float(j) for j in l.split()]\n",
    "        y = []\n",
    "        small = 1e-6\n",
    "        for i, m in enumerate(x):\n",
    "            if m % n < small:\n",
    "                y.append(i)\n",
    "        r.append(y)\n",
    "    return r"
   ]
  },
  {
   "cell_type": "code",
   "execution_count": 10,
   "metadata": {
    "collapsed": false
   },
   "outputs": [
    {
     "name": "stdout",
     "output_type": "stream",
     "text": [
      "The values at the following indices are divisible by 8:\n",
      "Line 0: [7]\n",
      "Line 1: [3, 7]\n",
      "Line 2: [1, 3, 5, 7, 9]\n",
      "Line 3: [1, 3, 5, 7, 9]\n"
     ]
    }
   ],
   "source": [
    "divisor = 8\n",
    "idxlist = is_divisible_from_file('ex1_7.txt', divisor)\n",
    "print('The values at the following indices are divisible by {}:'.format(divisor))\n",
    "for lineno, idx in enumerate(idxlist):\n",
    "    print('Line {}: {}'.format(lineno, idx))"
   ]
  },
  {
   "cell_type": "markdown",
   "metadata": {},
   "source": [
    "## Exercise (8)"
   ]
  },
  {
   "cell_type": "code",
   "execution_count": 11,
   "metadata": {
    "collapsed": false
   },
   "outputs": [],
   "source": [
    "class divtest:\n",
    "    \"\"\" Create an object for testing whether the elements of a list are exactly divisible by n.\n",
    "\n",
    "    Example:\n",
    "        >>> favnums = [1, 3.1415, math.sqrt(7), 6, 7.5]\n",
    "        >>> div3tester = divtest(3)\n",
    "        >>> idx = div3tester.test(favnums)\n",
    "        >>> for i in idx:\n",
    "        ...     print i, favnums[i]\n",
    "        3, 6\n",
    "    \n",
    "    \"\"\"\n",
    "    \n",
    "    def __init__(self, n):\n",
    "        self.n = n\n",
    "\n",
    "    def test(self, x):\n",
    "        r = []\n",
    "        small = 1e-6\n",
    "        for i, m in enumerate(x):\n",
    "            if m % self.n < small:\n",
    "                r.append(i)\n",
    "        return r"
   ]
  },
  {
   "cell_type": "code",
   "execution_count": 12,
   "metadata": {
    "collapsed": false
   },
   "outputs": [
    {
     "name": "stdout",
     "output_type": "stream",
     "text": [
      "Help on class divtest in module __main__:\n",
      "\n",
      "class divtest\n",
      " |  Create an object for testing whether the elements of a list are exactly divisible by n.\n",
      " |  \n",
      " |  Example:\n",
      " |      >>> favnums = [1, 3.1415, math.sqrt(7), 6, 7.5]\n",
      " |      >>> div3tester = divtest(3)\n",
      " |      >>> idx = div3tester.test(favnums)\n",
      " |      >>> for i in idx:\n",
      " |      ...     print i, favnums[i]\n",
      " |      3, 6\n",
      " |  \n",
      " |  Methods defined here:\n",
      " |  \n",
      " |  __init__(self, n)\n",
      " |  \n",
      " |  test(self, x)\n",
      "\n"
     ]
    }
   ],
   "source": [
    "help(divtest)"
   ]
  },
  {
   "cell_type": "code",
   "execution_count": 13,
   "metadata": {
    "collapsed": false
   },
   "outputs": [
    {
     "name": "stdout",
     "output_type": "stream",
     "text": [
      "Value 6 (at index 3) is divisible by 3\n"
     ]
    }
   ],
   "source": [
    "divisor = 3\n",
    "div3tester = divtest(divisor)\n",
    "idx = div3tester.test(favnums)\n",
    "for i in idx:\n",
    "    print('Value {} (at index {}) is divisible by {}'.format(favnums[i], i, divisor))"
   ]
  }
 ],
 "metadata": {
  "anaconda-cloud": {},
  "kernelspec": {
   "display_name": "Python [py35]",
   "language": "python",
   "name": "Python [py35]"
  }
 },
 "nbformat": 4,
 "nbformat_minor": 0
}
